{
 "cells": [
  {
   "cell_type": "code",
   "execution_count": 1,
   "metadata": {},
   "outputs": [],
   "source": [
    "import urllib\n",
    "from io import StringIO\n",
    "from io import BytesIO\n",
    "import csv\n",
    "import numpy as np\n",
    "from datetime import datetime\n",
    "import matplotlib.pylab as plt\n",
    "import pandas as pd\n",
    "import scipy.signal as signal"
   ]
  },
  {
   "cell_type": "code",
   "execution_count": 2,
   "metadata": {},
   "outputs": [],
   "source": [
    "datos1=pd.read_csv('https://raw.githubusercontent.com/ComputoCienciasUniandes/FISI2029-201910/master/Seccion_1/Fourier/Datos/transacciones2008.txt',sep=\";\",decimal=\",\",header = None,names=[\"Fecha1\", \"Fecha2\", \"Valor\", \"Cantidad\"])\n",
    "datos2=pd.read_csv('https://raw.githubusercontent.com/ComputoCienciasUniandes/FISI2029-201910/master/Seccion_1/Fourier/Datos/transacciones2009.txt',sep=\";\",decimal=\",\",header = None,names=[\"Fecha1\", \"Fecha2\", \"Valor\", \"Cantidad\"])\n",
    "datos3=pd.read_csv('https://raw.githubusercontent.com/ComputoCienciasUniandes/FISI2029-201910/master/Seccion_1/Fourier/Datos/transacciones2010.txt',sep=\";\",decimal=\",\",header = None,names=[\"Fecha1\", \"Fecha2\", \"Valor\", \"Cantidad\"])\n",
    "\n",
    "datos=pd.concat([datos1,datos2,datos3],ignore_index=True)\n",
    "datos=datos"
   ]
  },
  {
   "cell_type": "code",
   "execution_count": 3,
   "metadata": {},
   "outputs": [],
   "source": [
    "Fecha = datos[\"Fecha1\"].str.split(\" \", n = -1, expand = True)[0]\n",
    "Hora = datos[\"Fecha2\"].str.split(\" \", n = -1, expand = True)[1]\n",
    "\n",
    "Fecha=Fecha+' '+Hora"
   ]
  },
  {
   "cell_type": "code",
   "execution_count": 4,
   "metadata": {},
   "outputs": [],
   "source": [
    "datos.drop(columns =[\"Fecha1\",\"Fecha2\"], inplace = True) \n",
    "datos.insert(loc=0, column=\"Fecha\", value=Fecha)"
   ]
  },
  {
   "cell_type": "code",
   "execution_count": 5,
   "metadata": {},
   "outputs": [],
   "source": [
    "datos[\"Fecha\"]=pd.to_datetime(datos[\"Fecha\"],format='%d/%m/%Y %H:%M:%S')\n",
    "datos.set_index([\"Fecha\"],inplace=True)"
   ]
  },
  {
   "cell_type": "code",
   "execution_count": 6,
   "metadata": {},
   "outputs": [],
   "source": [
    "datos.to_csv(r'datos.csv')"
   ]
  }
 ],
 "metadata": {
  "kernelspec": {
   "display_name": "Python 3",
   "language": "python",
   "name": "python3"
  },
  "language_info": {
   "codemirror_mode": {
    "name": "ipython",
    "version": 3
   },
   "file_extension": ".py",
   "mimetype": "text/x-python",
   "name": "python",
   "nbconvert_exporter": "python",
   "pygments_lexer": "ipython3",
   "version": "3.7.2"
  }
 },
 "nbformat": 4,
 "nbformat_minor": 2
}
